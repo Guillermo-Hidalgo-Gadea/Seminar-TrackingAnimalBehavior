{
 "cells": [
  {
   "cell_type": "markdown",
   "metadata": {},
   "source": [
    "# Kinematic analysis"
   ]
  },
  {
   "cell_type": "markdown",
   "metadata": {},
   "source": [
    "## What libraries should I import?"
   ]
  },
  {
   "cell_type": "code",
   "execution_count": null,
   "metadata": {},
   "outputs": [],
   "source": [
    "import pandas as pd\n",
    "import numpy as np\n",
    "import matplotlib.pyplot as plt"
   ]
  },
  {
   "cell_type": "markdown",
   "metadata": {},
   "source": [
    "## Recap\n",
    "Dummy data for the following exercises is provided [here](https://ruhr-uni-bochum.sciebo.de/s/Svwxncw01Ir9uxw)."
   ]
  },
  {
   "cell_type": "code",
   "execution_count": null,
   "metadata": {},
   "outputs": [],
   "source": [
    "file = 'path/filename.csv'\n",
    "data = pd.read_csv(file, header=0)\n",
    "coords = data.loc[:,~data.columns.str.contains('score|error|ncams|fnum|center|M_')]"
   ]
  },
  {
   "cell_type": "markdown",
   "metadata": {},
   "source": [
    "## Position in space"
   ]
  },
  {
   "cell_type": "code",
   "execution_count": null,
   "metadata": {},
   "outputs": [],
   "source": [
    "position_x = coords['nose1_x']\n",
    "position_y = coords['nose1_y']\n",
    "position_z = coords['nose1_z']\n",
    "\n",
    "pos_x, = plt.plot(position_x, label='x')\n",
    "pos_y, = plt.plot(position_y, label='y')\n",
    "pos_z, = plt.plot(position_z, label='z')\n",
    "plt.xlabel('Time [frames]')\n",
    "plt.ylabel('Position [mm]')\n",
    "plt.legend()"
   ]
  },
  {
   "cell_type": "code",
   "execution_count": null,
   "metadata": {},
   "outputs": [],
   "source": [
    "position_x.hist()"
   ]
  },
  {
   "cell_type": "code",
   "execution_count": null,
   "metadata": {},
   "outputs": [],
   "source": [
    "x = coords['nose1_x']\n",
    "y = coords['nose1_y']\n",
    "z = coords['nose1_z']\n",
    "\n",
    "# creating 3d figures\n",
    "fig = plt.figure(figsize=(10, 10));\n",
    "ax = fig.add_subplot(projection='3d')\n",
    "\n",
    "# creating the path map\n",
    "img = ax.scatter(x, y, z, marker='o', s = 60, color='gray')\n",
    "\n",
    "# adding title and labels\n",
    "ax.set_title(\"3D Path\")\n",
    "ax.set_xlabel('X-axis')\n",
    "ax.set_ylabel('Y-axis')\n",
    "ax.set_zlabel('Z-axis')\n",
    "\n",
    "# displaying plot\n",
    "plt.show()"
   ]
  },
  {
   "cell_type": "markdown",
   "metadata": {},
   "source": [
    "## Velocity as difference between positions"
   ]
  },
  {
   "cell_type": "code",
   "execution_count": null,
   "metadata": {},
   "outputs": [],
   "source": [
    "velocity_x = np.append([0],np.diff(position_x, n=1)) \n",
    "velocity_y = np.append([0],np.diff(position_y, n=1))\n",
    "velocity_z = np.append([0],np.diff(position_z, n=1))\n",
    "\n",
    "vel_x, = plt.plot(velocity_x, label='x')\n",
    "vel_y, = plt.plot(velocity_y, label='y')\n",
    "vel_z, = plt.plot(velocity_z, label='z')\n",
    "plt.xlabel('Time [frames]')\n",
    "plt.ylabel('Velocity [mm/s]')\n",
    "plt.legend()"
   ]
  },
  {
   "cell_type": "code",
   "execution_count": null,
   "metadata": {},
   "outputs": [],
   "source": [
    "_ = plt.hist(velocity_x, bins='auto')"
   ]
  },
  {
   "cell_type": "markdown",
   "metadata": {},
   "source": [
    "## Acceleration as difference in velocity"
   ]
  },
  {
   "cell_type": "code",
   "execution_count": null,
   "metadata": {},
   "outputs": [],
   "source": [
    "# Acceleration of head movement as frame-to-frame difference in velocity\n",
    "acceleration_x = np.append([0],np.diff(velocity_x, n=1))\n",
    "acceleration_y = np.append([0],np.diff(velocity_y, n=1))\n",
    "acceleration_z = np.append([0],np.diff(velocity_z, n=1))\n",
    "\n",
    "acc_x, = plt.plot(acceleration_x, label='x')\n",
    "acc_y, = plt.plot(acceleration_y, label='y')\n",
    "acc_z, = plt.plot(acceleration_z, label='z')\n",
    "plt.xlabel('Time [frames]')\n",
    "plt.ylabel('Acceleration [mm/s^2]')\n",
    "plt.legend()"
   ]
  },
  {
   "cell_type": "code",
   "execution_count": null,
   "metadata": {},
   "outputs": [],
   "source": [
    "_ = plt.hist(acceleration_x, bins='auto')"
   ]
  },
  {
   "cell_type": "code",
   "execution_count": null,
   "metadata": {},
   "outputs": [],
   "source": [
    "plt.figure(figsize=(6,6))\n",
    "plt.hist(acceleration_x, bins=100, alpha=0.5, label=\"acceleration_x\")\n",
    "plt.hist(acceleration_y, bins=100, alpha=0.5, label=\"acceleration_y\")\n",
    "plt.hist(acceleration_z, bins=100, alpha=0.5, label=\"acceleration_z\")\n",
    "plt.xlabel(\"Acceleration\", size=14)\n",
    "plt.ylabel(\"Count\", size=14)\n",
    "plt.title(\"Multiple Histograms with Matplotlib\")\n",
    "plt.legend(loc='upper right')"
   ]
  },
  {
   "cell_type": "code",
   "execution_count": null,
   "metadata": {},
   "outputs": [],
   "source": [
    "# Grouped plots\n",
    "_ = plt.figure(figsize=(6,6))\n",
    "plt.violinplot(acceleration_x)\n",
    "plt.violinplot(acceleration_y)\n",
    "plt.violinplot(acceleration_z)\n",
    "plt.xlabel(\"Acceleration\", size=14)\n",
    "plt.ylabel(\"Count\", size=14)\n",
    "plt.title(\"Multiple Violin Plots with Matplotlib\")"
   ]
  },
  {
   "cell_type": "code",
   "execution_count": null,
   "metadata": {},
   "outputs": [],
   "source": [
    "# Combine data\n",
    "combined_acc = list([acceleration_x, acceleration_y, acceleration_z])\n",
    "\n",
    "fig, ax = plt.subplots()\n",
    "\n",
    "xticklabels = ['x', 'y', 'z']\n",
    "ax.set_xticks([1, 2, 3])\n",
    "ax.set_xticklabels(xticklabels)\n",
    "ax.violinplot(combined_acc)\n",
    "\n",
    "plt.xlabel(\"Coordinate\", size=14)\n",
    "plt.ylabel(\"Acceleration\", size=14)\n",
    "plt.title(\"Multiple Violin Plots with Matplotlib\")\n",
    "\n"
   ]
  },
  {
   "cell_type": "markdown",
   "metadata": {},
   "source": [
    "In the following section we will learn to cluster our data using some very basic machine learning techniques."
   ]
  }
 ],
 "metadata": {
  "interpreter": {
   "hash": "5c5ef1471d5c617ee4b3ecf83de1bdea477734dabb807d0afaccbe47977a76ba"
  },
  "kernelspec": {
   "display_name": "Python 3.8.12 64-bit ('base': conda)",
   "language": "python",
   "name": "python3"
  },
  "language_info": {
   "codemirror_mode": {
    "name": "ipython",
    "version": 3
   },
   "file_extension": ".py",
   "mimetype": "text/x-python",
   "name": "python",
   "nbconvert_exporter": "python",
   "pygments_lexer": "ipython3",
   "version": "3.8.2"
  }
 },
 "nbformat": 4,
 "nbformat_minor": 2
}