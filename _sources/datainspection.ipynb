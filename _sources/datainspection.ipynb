{
 "cells": [
  {
   "cell_type": "markdown",
   "metadata": {},
   "source": [
    "# What does data look like"
   ]
  },
  {
   "cell_type": "markdown",
   "metadata": {},
   "source": [
    "## What libraries should I import?"
   ]
  },
  {
   "cell_type": "code",
   "execution_count": null,
   "metadata": {},
   "outputs": [],
   "source": [
    "import pandas as pd\n",
    "import numpy as np\n",
    "import matplotlib.pyplot as plt"
   ]
  },
  {
   "cell_type": "markdown",
   "metadata": {},
   "source": [
    "## How to read data?\n",
    "Dummy data for the following exercises is provided [here](https://ruhr-uni-bochum.sciebo.de/s/Svwxncw01Ir9uxw)."
   ]
  },
  {
   "cell_type": "code",
   "execution_count": null,
   "metadata": {},
   "outputs": [],
   "source": [
    "file =  'path/filename.csv'"
   ]
  },
  {
   "cell_type": "code",
   "execution_count": null,
   "metadata": {},
   "outputs": [],
   "source": [
    "data = pd.read_csv(file, header=0)"
   ]
  },
  {
   "cell_type": "markdown",
   "metadata": {},
   "source": [
    "## How is my data structured?"
   ]
  },
  {
   "cell_type": "code",
   "execution_count": null,
   "metadata": {},
   "outputs": [],
   "source": [
    "data.info()"
   ]
  },
  {
   "cell_type": "code",
   "execution_count": null,
   "metadata": {},
   "outputs": [],
   "source": [
    "np.shape(data)"
   ]
  },
  {
   "cell_type": "code",
   "execution_count": null,
   "metadata": {},
   "outputs": [],
   "source": [
    "data"
   ]
  },
  {
   "cell_type": "markdown",
   "metadata": {},
   "source": [
    "### Cleaning data"
   ]
  },
  {
   "cell_type": "code",
   "execution_count": null,
   "metadata": {},
   "outputs": [],
   "source": [
    "coords = data.loc[:,~data.columns.str.contains('score|error|ncams|fnum|center|M_')]"
   ]
  },
  {
   "cell_type": "code",
   "execution_count": null,
   "metadata": {},
   "outputs": [],
   "source": [
    "scores = data.loc[:, data.columns.str.contains('score')]"
   ]
  },
  {
   "cell_type": "markdown",
   "metadata": {},
   "source": [
    "### Changing the data structure"
   ]
  },
  {
   "cell_type": "code",
   "execution_count": null,
   "metadata": {},
   "outputs": [],
   "source": [
    "# Let us transform the data to be centered around a reference point\n",
    "centered_coords = coords.copy()\n",
    "for i in range(centered_coords.shape[1]):\n",
    "    if '_x' in centered_coords.columns[i]:\n",
    "        centered_coords.loc[:,centered_coords.columns[i]] = centered_coords.loc[:,centered_coords.columns[i]].subtract(coords.loc[:,\"nose1_x\"].values)\n",
    "    elif '_y' in centered_coords.columns[i]:\n",
    "        centered_coords.loc[:,centered_coords.columns[i]] = centered_coords.loc[:,centered_coords.columns[i]].subtract(coords.loc[:,\"nose1_y\"].values)\n",
    "    elif '_z' in centered_coords.columns[i]:\n",
    "        centered_coords.loc[:,centered_coords.columns[i]] = centered_coords.loc[:,centered_coords.columns[i]].subtract(coords.loc[:,\"nose1_z\"].values)\n",
    "    else:\n",
    "        pass"
   ]
  },
  {
   "cell_type": "code",
   "execution_count": null,
   "metadata": {},
   "outputs": [],
   "source": [
    "coords_egocentric = centered_coords.to_numpy()"
   ]
  },
  {
   "cell_type": "code",
   "execution_count": null,
   "metadata": {},
   "outputs": [],
   "source": [
    "coords_egocentric.shape()"
   ]
  },
  {
   "cell_type": "code",
   "execution_count": null,
   "metadata": {},
   "outputs": [],
   "source": [
    "coords_egocentric"
   ]
  },
  {
   "cell_type": "code",
   "execution_count": null,
   "metadata": {},
   "outputs": [],
   "source": [
    "np.reshape(scores, (a, b))"
   ]
  },
  {
   "cell_type": "markdown",
   "metadata": {},
   "source": [
    "## What does my data tell me?"
   ]
  },
  {
   "cell_type": "code",
   "execution_count": null,
   "metadata": {},
   "outputs": [],
   "source": [
    "coords.mean(axis = 'columns')"
   ]
  },
  {
   "cell_type": "code",
   "execution_count": null,
   "metadata": {},
   "outputs": [],
   "source": [
    "coords.mean(axis = 'index')"
   ]
  },
  {
   "cell_type": "code",
   "execution_count": null,
   "metadata": {},
   "outputs": [],
   "source": [
    "coords[''].mean()"
   ]
  },
  {
   "cell_type": "code",
   "execution_count": null,
   "metadata": {},
   "outputs": [],
   "source": [
    "coords.describe()"
   ]
  },
  {
   "cell_type": "markdown",
   "metadata": {},
   "source": [
    "## How could my data look like"
   ]
  },
  {
   "cell_type": "code",
   "execution_count": null,
   "metadata": {},
   "outputs": [],
   "source": [
    "scores.hist()"
   ]
  },
  {
   "cell_type": "code",
   "execution_count": null,
   "metadata": {},
   "outputs": [],
   "source": [
    "scores.boxplot()"
   ]
  },
  {
   "cell_type": "code",
   "execution_count": null,
   "metadata": {},
   "outputs": [],
   "source": [
    "x_coords = coords.loc[:,coords.columns.str.contains('_x')]\n",
    "y_coords = coords.loc[:,coords.columns.str.contains('_y')]\n",
    "z_coords = coords.loc[:,coords.columns.str.contains('_z')]\n",
    "\n",
    "t = 0\n",
    "\n",
    "fig = plt.figure(figsize=(6, 4), dpi = 100)\n",
    "ax = fig.add_subplot(projection='3d')\n",
    "x_points = x_coords[t:t+1]\n",
    "y_points = y_coords[t:t+1]\n",
    "z_points = z_coords[t:t+1]\n",
    "\n",
    "ax.scatter3D(x_points,y_points, z_points)\n",
    "ax.view_init(11, 280)\n",
    "ax.set(xlabel='X axis', ylabel='Y axis', zlabel='Z axis')\n",
    "\n",
    "plt.title(\"My First Plot\")\n",
    "        "
   ]
  },
  {
   "cell_type": "markdown",
   "metadata": {},
   "source": [
    "Take your own notes:   \n",
    " \n",
    "-   \n",
    "-   \n",
    "-   \n"
   ]
  },
  {
   "cell_type": "markdown",
   "metadata": {},
   "source": [
    "In the following section we will learn to calculate some easy kinematic features to better understand our data."
   ]
  },
  {
   "cell_type": "markdown",
   "metadata": {},
   "source": [
    "## Bonus"
   ]
  },
  {
   "cell_type": "code",
   "execution_count": null,
   "metadata": {},
   "outputs": [],
   "source": [
    "def face_skeleton(pose):\n",
    "    \"\"\"\n",
    "    The face_skeleton function defines a mesh skeleton by connecting the facial landmarks as defined below.\n",
    "    This function is directly passed to plot_3Dpose. \n",
    "    \"\"\"\n",
    "    skeletons = []\n",
    "    for n in range(len(pose)): # read out n_components from different poses\n",
    "    \n",
    "        lefteye = [pose[n]['lefteye1_x'], pose[n]['lefteye2_x']], [pose[n]['lefteye1_y'], pose[n]['lefteye2_y']], [pose[n]['lefteye1_z'], pose[n]['lefteye2_z']]\n",
    "        righteye = [pose[n]['righteye1_x'], pose[n]['righteye2_x']], [pose[n]['righteye1_y'], pose[n]['righteye2_y']], [pose[n]['righteye1_z'], pose[n]['righteye2_z']]\n",
    "        leyebrow = [pose[n]['leyebrow1_x'], pose[n]['leyebrow2_x'],pose[n]['leyebrow3_x']],[pose[n]['leyebrow1_y'], pose[n]['leyebrow2_y'],pose[n]['leyebrow3_y']],[pose[n]['leyebrow1_z'], pose[n]['leyebrow2_z'],pose[n]['leyebrow3_z']]\n",
    "        reyebrow = [pose[n]['reyebrow1_x'], pose[n]['reyebrow2_x'],pose[n]['reyebrow3_x']],[pose[n]['reyebrow1_y'], pose[n]['reyebrow2_y'],pose[n]['reyebrow3_y']],[pose[n]['reyebrow1_z'], pose[n]['reyebrow2_z'],pose[n]['reyebrow3_z']]\n",
    "        nose = [pose[n]['nose1_x'],pose[n]['nose3_x'],pose[n]['nose2_x'],pose[n]['nose4_x'],pose[n]['nose1_x']],[pose[n]['nose1_y'],pose[n]['nose3_y'],pose[n]['nose2_y'],pose[n]['nose4_y'],pose[n]['nose1_y']],[pose[n]['nose1_z'],pose[n]['nose3_z'],pose[n]['nose2_z'],pose[n]['nose4_z'],pose[n]['nose1_z']]\n",
    "        lips = [pose[n]['uplip_x'],pose[n]['llip_x'],pose[n]['lowlip_x'],pose[n]['rlip_x'],pose[n]['uplip_x']],[pose[n]['uplip_y'],pose[n]['llip_y'],pose[n]['lowlip_y'],pose[n]['rlip_y'],pose[n]['uplip_y']],[pose[n]['uplip_z'],pose[n]['llip_z'],pose[n]['lowlip_z'],pose[n]['rlip_z'],pose[n]['uplip_z']]\n",
    "        face = [pose[n]['rear_x'],pose[n]['chin_x'],pose[n]['lear_x']],[pose[n]['rear_y'],pose[n]['chin_y'],pose[n]['lear_y']],[pose[n]['rear_z'],pose[n]['chin_z'],pose[n]['lear_z']]\n",
    "        \n",
    "        skeleton = lefteye, righteye, leyebrow, reyebrow, nose, lips, face\n",
    "        skeletons.append(skeleton)\n",
    "    \n",
    "    return skeletons\n",
    "\n",
    "def plot_3Dpose(pose, elevation, azimuth):\n",
    "    \"\"\"\n",
    "    This plot function takes the average pose coordinates of facial landmarks, creates a skeleton and visualizes the facial expression\n",
    "    in a 3D coordinate system with predefined elevantion and azimuth angles.\n",
    "    \"\"\"\n",
    "    skeletons = face_skeleton(pose)\n",
    "\n",
    "    ncols = 3\n",
    "    nrows = math.ceil(len(pose)/ncols)\n",
    "    width = ncols*6\n",
    "    height = nrows *5\n",
    "    \n",
    "    fig, axes = plt.subplots(nrows, ncols, figsize=(width, height), subplot_kw=dict(projection='3d'))\n",
    "\n",
    "    for ax, n in zip(axes.flat, range(len(pose))):\n",
    "            x_points = pose[n][['_x' in s for s in pose[n].index]]\n",
    "            y_points = pose[n][['_y' in s for s in pose[n].index]]\n",
    "            z_points = pose[n][['_z' in s for s in pose[n].index]]\n",
    "            ax.scatter3D(x_points,y_points, z_points)\n",
    "            ax.view_init(elevation, azimuth)\n",
    "            ax.set(xlabel='X axis', ylabel='Y axis', zlabel='Z axis')\n",
    "            ax.set_title('Predicted Pose: %d' %(n+1))\n",
    "            for i in range(len(skeletons[0])):\n",
    "                x = skeletons[n][i][0]\n",
    "                y = skeletons[n][i][1]\n",
    "                z = skeletons[n][i][2]\n",
    "                ax.plot(x,y,z, color='g') \n",
    "                \n",
    "    plt.suptitle('Hidden Markov Model predictions with N = %d Components' %len(pose))\n",
    "    plt.show()\n",
    "    return\n",
    "\n",
    "def split_data(data, prediction):\n",
    "    \"\"\"\n",
    "    The split_data function will be used to split time series data into smaller \n",
    "    chunks by the prediction variable.\n",
    "    \n",
    "    \"\"\"\n",
    "    n = max(prediction)+1 #read out the number of predicted components\n",
    "    data['pred'] = prediction\n",
    "    grouped = data.groupby(data.pred)\n",
    "    predictions = [grouped.get_group(i) for i in range(n)]\n",
    "    pose = [predictions[i].mean() for i in range(n)]\n",
    "    \n",
    "    return predictions, pose"
   ]
  },
  {
   "cell_type": "code",
   "execution_count": null,
   "metadata": {},
   "outputs": [],
   "source": [
    "from hmmlearn import hmm\n",
    "model1 = hmm.GaussianHMM(n_components = 9, covariance_type=\"full\") # change the number of components you expect to find in your data\n",
    "model1.fit(coords)\n",
    "pred1 = model1.predict(coords)"
   ]
  },
  {
   "cell_type": "code",
   "execution_count": null,
   "metadata": {},
   "outputs": [],
   "source": [
    "_, pose1 = split_data(centered_coords, pred1)"
   ]
  },
  {
   "cell_type": "code",
   "execution_count": null,
   "metadata": {},
   "outputs": [],
   "source": [
    "plot_3Dpose(pose1, 11, 280)  "
   ]
  }
 ],
 "metadata": {
  "language_info": {
   "name": "python"
  },
  "orig_nbformat": 4
 },
 "nbformat": 4,
 "nbformat_minor": 2
}
