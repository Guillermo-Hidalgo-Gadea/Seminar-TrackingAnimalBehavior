{
 "cells": [
  {
   "cell_type": "markdown",
   "metadata": {},
   "source": [
    "# Machine Learning"
   ]
  },
  {
   "cell_type": "markdown",
   "metadata": {},
   "source": [
    "## What libraries should I import?\n",
    "\n",
    "```pip install hmmlearn```\n",
    "\n",
    "```pip install umap-learn```\n"
   ]
  },
  {
   "cell_type": "code",
   "execution_count": null,
   "metadata": {},
   "outputs": [],
   "source": [
    "from hmmlearn import hmm\n",
    "import umap\n",
    "from sklearn.mixture import GaussianMixture\n",
    "from sklearn import tree\n",
    "from sklearn.tree import DecisionTreeClassifier\n",
    "import pandas as pd\n",
    "import numpy as np\n",
    "import matplotlib.pyplot as plt"
   ]
  },
  {
   "cell_type": "markdown",
   "metadata": {},
   "source": [
    "## Recap\n",
    "Dummy data for the following exercises is provided [here](https://ruhr-uni-bochum.sciebo.de/s/Svwxncw01Ir9uxw)."
   ]
  },
  {
   "cell_type": "code",
   "execution_count": null,
   "metadata": {},
   "outputs": [],
   "source": [
    "file = 'path/filename.csv'\n",
    "data = pd.read_csv(file, header=0)\n",
    "coords = data.loc[:,~data.columns.str.contains('score|error|ncams|fnum|center|M_')]"
   ]
  },
  {
   "cell_type": "markdown",
   "metadata": {},
   "source": [
    "## Helper Functions"
   ]
  },
  {
   "cell_type": "code",
   "execution_count": null,
   "metadata": {},
   "outputs": [],
   "source": [
    "def plot_prediction(data, predictions):\n",
    "    \"\"\"\n",
    "    This function will plot the time series data and mark the transitions between predicted classes.\n",
    "    \n",
    "    \"\"\"\n",
    "    colors = {\"0\": \"black\", \"1\":\"dimgray\", \"2\":\"darkgray\", \"3\":\"white\", \"4\":\"bisque\", \"5\":\"tan\", \"6\":\"orange\", \"7\":\"salmon\", \"8\":\"gold\", \"9\":\"rosybrown\", \"10\":\"beige\", \"11\":\"thistle\", \"12\":\"peachpuff\", \"13\":\"khaki\", \"14\":\"skyblue\", \"15\":\"lightblue\", \"16\":\"lightsteelblue\", \"17\":\"lavender\", \"18\":\"mediumaquamarine\", \"19\":\"cadetblue\"}\n",
    "    n = max(predictions)+1\n",
    "    name =[x for x in globals() if globals()[x] is data][0]\n",
    "    yloc = max(np.max(data))-(max(np.max(data)) - min(np.min(data)))/8\n",
    "    locy = yloc - (max(np.max(data)) - min(np.min(data)))/8\n",
    "    with plt.xkcd():\n",
    "        fig = plt.figure()\n",
    "        ax = plt.axes()\n",
    "        ax.plot(data)\n",
    "        start_pred = 0\n",
    "        for i in range(len(predictions)):\n",
    "            if i == len(predictions)-1:\n",
    "                end_pred = i+1\n",
    "                ax.axvspan(start_pred,end_pred, facecolor=colors[\"%d\" %predictions[i]], alpha = 0.5)\n",
    "                loc = start_pred + (end_pred - start_pred)/2\n",
    "                ax.annotate('%d'%predictions[i], xy=(loc, locy), xytext=(loc+10, yloc),\n",
    "                arrowprops=dict(arrowstyle=\"->\", facecolor='black'))\n",
    "            elif predictions[i] == predictions[i+1]:\n",
    "                pass\n",
    "            else:\n",
    "                end_pred = i\n",
    "                ax.axvspan(start_pred,end_pred, facecolor=colors[\"%d\" %predictions[i]], alpha = 0.5)\n",
    "                loc = start_pred + (end_pred - start_pred)/2\n",
    "                ax.annotate('%d'%predictions[i], xy=(loc, locy), xytext=(loc+10, yloc),\n",
    "                arrowprops=dict(arrowstyle=\"->\", facecolor='black'))\n",
    "                start_pred = end_pred\n",
    "            \n",
    "        plt.xlabel(\"Time [frames]\")\n",
    "        plt.ylabel(\"Feature value from %s data\" %name)\n",
    "        plt.title('Model predictions with N = %d Components' %n)\n",
    "        plt.show()\n",
    "    return"
   ]
  },
  {
   "cell_type": "markdown",
   "metadata": {},
   "source": [
    "## Time segmentation with Hidden Markov Models"
   ]
  },
  {
   "cell_type": "code",
   "execution_count": null,
   "metadata": {},
   "outputs": [],
   "source": [
    "# Now we can train a Hidden markov Model with our coordinate data\n",
    "model1 = hmm.GaussianHMM(n_components = 9, covariance_type=\"full\")\n",
    "model1.fit(coords)"
   ]
  },
  {
   "cell_type": "code",
   "execution_count": null,
   "metadata": {},
   "outputs": [],
   "source": [
    "hmm_pred = model1.predict(coords)"
   ]
  },
  {
   "cell_type": "code",
   "execution_count": null,
   "metadata": {},
   "outputs": [],
   "source": [
    "transition1 = model1.transmat_\n",
    "transition1"
   ]
  },
  {
   "cell_type": "code",
   "execution_count": null,
   "metadata": {},
   "outputs": [],
   "source": [
    "means1 = model1.means_\n",
    "means1"
   ]
  },
  {
   "cell_type": "code",
   "execution_count": null,
   "metadata": {},
   "outputs": [],
   "source": [
    "plot_prediction(coords, hmm_pred)"
   ]
  },
  {
   "cell_type": "markdown",
   "metadata": {},
   "source": [
    "## Gaussian Mixture Model"
   ]
  },
  {
   "cell_type": "code",
   "execution_count": null,
   "metadata": {},
   "outputs": [],
   "source": [
    "gmm_pred = GaussianMixture(n_components=9, covariance_type='full').fit_predict(coords)"
   ]
  },
  {
   "cell_type": "code",
   "execution_count": null,
   "metadata": {},
   "outputs": [],
   "source": [
    "plot_prediction(coords, gmm_pred)"
   ]
  },
  {
   "cell_type": "markdown",
   "metadata": {},
   "source": [
    "## Decision Trees"
   ]
  },
  {
   "cell_type": "code",
   "execution_count": null,
   "metadata": {},
   "outputs": [],
   "source": [
    "dtree = DecisionTreeClassifier()\n",
    "dtree = dtree.fit(coords, hmm_pred)"
   ]
  },
  {
   "cell_type": "code",
   "execution_count": null,
   "metadata": {},
   "outputs": [],
   "source": [
    "plt.figure(figsize=(30, 20))\n",
    "tree.plot_tree(dtree, feature_names = coords.columns, fontsize=12)\n",
    "plt.show()"
   ]
  },
  {
   "cell_type": "code",
   "execution_count": null,
   "metadata": {},
   "outputs": [],
   "source": [
    "n = 100\n",
    "print(f'Prediction from decision tree for frame {n}: {dtree.predict(coords[n:n+1])}')"
   ]
  },
  {
   "cell_type": "markdown",
   "metadata": {},
   "source": [
    "## UMAP dimensionality reduction"
   ]
  },
  {
   "cell_type": "code",
   "execution_count": null,
   "metadata": {},
   "outputs": [],
   "source": [
    "mapper = umap.UMAP(metric = 'euclidean', n_neighbors=30, min_dist=0.99, random_state=42, init = 'random').fit_transform(coords)\n",
    "print(f\"Umap data ready with shape {np.shape(mapper)}\")"
   ]
  },
  {
   "cell_type": "code",
   "execution_count": null,
   "metadata": {},
   "outputs": [],
   "source": [
    "umap1 = mapper[:,0] \n",
    "umap2 = mapper[:,1]\n",
    "labels = hmm_pred\n",
    "\n",
    "with plt.xkcd():\n",
    "    plt.figure()\n",
    "    cmap = plt.cm.get_cmap('hot')\n",
    "    plt.scatter(umap1, umap2, c=labels.astype(np.float), cmap=cmap)\n",
    "    plt.xlabel('UMAP 1')\n",
    "    plt.ylabel('UMAP 2')\n",
    "    plt.colorbar(ticks=range(4))\n",
    "    plt.clim(0, 5)\n",
    "    plt.show()"
   ]
  },
  {
   "cell_type": "code",
   "execution_count": null,
   "metadata": {},
   "outputs": [],
   "source": []
  }
 ],
 "metadata": {
  "interpreter": {
   "hash": "5c5ef1471d5c617ee4b3ecf83de1bdea477734dabb807d0afaccbe47977a76ba"
  },
  "kernelspec": {
   "display_name": "Python 3.8.12 64-bit ('base': conda)",
   "language": "python",
   "name": "python3"
  },
  "language_info": {
   "codemirror_mode": {
    "name": "ipython",
    "version": 3
   },
   "file_extension": ".py",
   "mimetype": "text/x-python",
   "name": "python",
   "nbconvert_exporter": "python",
   "pygments_lexer": "ipython3",
   "version": "3.8.12"
  },
  "orig_nbformat": 4
 },
 "nbformat": 4,
 "nbformat_minor": 2
}
